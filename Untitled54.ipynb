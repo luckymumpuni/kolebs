{
 "cells": [
  {
   "cell_type": "code",
   "execution_count": 4,
   "metadata": {
    "collapsed": false
   },
   "outputs": [
    {
     "name": "stdout",
     "output_type": "stream",
     "text": [
      "Dikotil termasuk kedalam Tumbuhan Spermatophyta\n",
      "Monokotil juga termasuk dalam Tumbuhan Spermatophyta\n",
      "\n",
      "\n",
      "Dikotil adalah tumbuhan berkeping dua, batangnya berkambium dan bercabang, mempunyai tulang daun menyirip atau menjari, akarnya tunggang, dan mempunyai kelopak bunga kelipatan 4 atau 5\n",
      "Contoh tumbuhan Dikotil :\n",
      "\n",
      "\n",
      "Nama Tumbuhan : Jambu\n",
      "Jumlah Kotiledon : Dua\n",
      "Batang : Berkambium dan Bercabang\n",
      "Tulang Daun : Menyirip\n",
      "Akar : Tunggang\n",
      "Jumlah Kelipatan Kelopak Bunga : 5\n",
      "==========\n",
      "Nama Tumbuhan : Singkong\n",
      "Jumlah Kotiledon : Dua\n",
      "Batang : Berkambium dan Bercabang\n",
      "Tulang Daun : Menjari\n",
      "Akar : Tunggang\n",
      "Jumlah Kelipatan Kelopak Bunga : 5\n",
      "\n",
      "\n",
      "Monokotil adalah tumbuhan berkeping satu, batangnya tak berkambium dan tak bercabang, mempunyai tulang daun sejajar atau melengkung, akarnya serabut, dan mempunyai kelopak bunga kelipatan 3\n",
      "Contoh tumbuhan Monokotil :\n",
      "\n",
      "\n",
      "Nama Tumbuhan : Padi\n",
      "Jumlah Kotiledon : Satu\n",
      "Batang : Tak Berkambium dan Tak Bercabang\n",
      "Tulang Daun : Sejajar\n",
      "Akar : Serabut\n",
      "Jumlah Kelipatan Kelopak Bunga : 6\n",
      "==========\n",
      "Nama Tumbuhan : Sirih\n",
      "Jumlah Kotiledon : Satu\n",
      "Batang : Tak Berkambium dan Tak Bercabang\n",
      "Tulang Daun : Melengkung\n",
      "Akar : Serabut\n",
      "Jumlah Kelipatan Kelopak Bunga : 3\n"
     ]
    }
   ],
   "source": [
    "#PROGRAM PENDATAAN TUMBUHAN DIKOTIL DAN MONOKOTIL\n",
    "#LUCKY MUMPUNI\n",
    "#3.34.20.2.14\n",
    "#IK1C\n",
    "\n",
    "class Dikotil:\n",
    " species = \"Tumbuhan Spermatophyta\"\n",
    " def __init__(self, nama, keping, batang, daun, akar, bunga):\n",
    "     self.nama = nama\n",
    "     self.keping = keping\n",
    "     self.batang = batang\n",
    "     self.daun = daun\n",
    "     self.akar = akar\n",
    "     self.bunga = bunga\n",
    " def karakteristik(self):\n",
    "    print(\"Nama Tumbuhan : {}\".format(self.nama))\n",
    "    print(\"Jumlah Kotiledon : {}\".format(self.keping))\n",
    "    print(\"Batang : {}\".format(self.batang))\n",
    "    print(\"Tulang Daun : {}\".format(self.daun))\n",
    "    print(\"Akar : {}\".format(self.akar))\n",
    "    print(\"Jumlah Kelipatan Kelopak Bunga : {}\".format(self.bunga))\n",
    "class Monokotil(Dikotil):\n",
    " def __init__(self, nama, keping, batang, daun, akar, bunga):\n",
    "     self.nama = nama\n",
    "     self.keping = keping\n",
    "     self.batang = batang\n",
    "     self.daun = daun\n",
    "     self.akar = akar\n",
    "     self.bunga = bunga\n",
    "    \n",
    "dikotil=Dikotil(\"Dikotil\",\"berkeping dua\",\"berkambium dan bercabang\", \"menyirip atau menjari\",\"tunggang\",\"4 atau 5\")\n",
    "jambu=Dikotil(\"Jambu\",\"Dua\",\"Berkambium dan Bercabang\", \"Menyirip\",\"Tunggang\",\"5\")\n",
    "singkong=Dikotil(\"Singkong\",\"Dua\",\"Berkambium dan Bercabang\", \"Menjari\",\"Tunggang\",\"5\")\n",
    "\n",
    "monokotil=Monokotil(\"Monokotil\",\"berkeping satu\", \"tak berkambium dan tak bercabang\", \"sejajar atau melengkung\", \"serabut\", \"3\")\n",
    "padi=Monokotil(\"Padi\", \"Satu\", \"Tak Berkambium dan Tak Bercabang\", \"Sejajar\", \"Serabut\", \"6\")\n",
    "sirih=Monokotil(\"Sirih\", \"Satu\", \"Tak Berkambium dan Tak Bercabang\", \"Melengkung\", \"Serabut\", \"3\")\n",
    "\n",
    "print(\"Dikotil termasuk kedalam {}\".format(dikotil.__class__.species))\n",
    "print(\"Monokotil juga termasuk dalam {}\".format(monokotil.__class__.species))\n",
    "print(\"\\n\")\n",
    "print(\"{} adalah tumbuhan {}, batangnya {}, mempunyai tulang daun {}, akarnya {}, dan mempunyai kelopak bunga kelipatan {}\".format(dikotil.nama, dikotil.keping, dikotil.batang, dikotil.daun, dikotil.akar, dikotil.bunga))\n",
    "print(\"Contoh tumbuhan {} :\".format(dikotil.nama))\n",
    "print(\"\\n\")\n",
    "jambu.karakteristik()\n",
    "print(\"==========\")\n",
    "singkong.karakteristik()\n",
    "print(\"\\n\")\n",
    "print(\"{} adalah tumbuhan {}, batangnya {}, mempunyai tulang daun {}, akarnya {}, dan mempunyai kelopak bunga kelipatan {}\".format(monokotil.nama, monokotil.keping, monokotil.batang, monokotil.daun, monokotil.akar, monokotil.bunga))\n",
    "print(\"Contoh tumbuhan {} :\".format(monokotil.nama))\n",
    "print(\"\\n\")\n",
    "padi.karakteristik()\n",
    "print(\"==========\")\n",
    "sirih.karakteristik()\n"
   ]
  },
  {
   "cell_type": "code",
   "execution_count": null,
   "metadata": {
    "collapsed": true
   },
   "outputs": [],
   "source": []
  }
 ],
 "metadata": {
  "kernelspec": {
   "display_name": "Python [conda root]",
   "language": "python",
   "name": "conda-root-py"
  },
  "language_info": {
   "codemirror_mode": {
    "name": "ipython",
    "version": 3
   },
   "file_extension": ".py",
   "mimetype": "text/x-python",
   "name": "python",
   "nbconvert_exporter": "python",
   "pygments_lexer": "ipython3",
   "version": "3.5.2"
  }
 },
 "nbformat": 4,
 "nbformat_minor": 1
}
